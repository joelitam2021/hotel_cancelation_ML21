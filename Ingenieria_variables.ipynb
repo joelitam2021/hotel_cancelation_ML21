{
 "cells": [
  {
   "cell_type": "code",
   "execution_count": 8,
   "id": "d3ed6001",
   "metadata": {},
   "outputs": [],
   "source": [
    "import numpy as np              # numerical python\n",
    "import pandas as pd             # dealing with dataframes (excel-like tables)\n",
    "import matplotlib.pyplot as plt # Basic plots\n",
    "import seaborn as sns"
   ]
  },
  {
   "cell_type": "code",
   "execution_count": 12,
   "id": "38057cab",
   "metadata": {},
   "outputs": [
    {
     "name": "stdout",
     "output_type": "stream",
     "text": [
      "(91531, 30)\n"
     ]
    },
    {
     "data": {
      "text/html": [
       "<div>\n",
       "<style scoped>\n",
       "    .dataframe tbody tr th:only-of-type {\n",
       "        vertical-align: middle;\n",
       "    }\n",
       "\n",
       "    .dataframe tbody tr th {\n",
       "        vertical-align: top;\n",
       "    }\n",
       "\n",
       "    .dataframe thead th {\n",
       "        text-align: right;\n",
       "    }\n",
       "</style>\n",
       "<table border=\"1\" class=\"dataframe\">\n",
       "  <thead>\n",
       "    <tr style=\"text-align: right;\">\n",
       "      <th></th>\n",
       "      <th>hotel</th>\n",
       "      <th>is_canceled</th>\n",
       "      <th>lead_time</th>\n",
       "      <th>arrival_date_year</th>\n",
       "      <th>arrival_date_month</th>\n",
       "      <th>arrival_date_week_number</th>\n",
       "      <th>arrival_date_day_of_month</th>\n",
       "      <th>stays_in_weekend_nights</th>\n",
       "      <th>stays_in_week_nights</th>\n",
       "      <th>adults</th>\n",
       "      <th>...</th>\n",
       "      <th>assigned_room_type</th>\n",
       "      <th>booking_changes</th>\n",
       "      <th>deposit_type</th>\n",
       "      <th>agent</th>\n",
       "      <th>company</th>\n",
       "      <th>days_in_waiting_list</th>\n",
       "      <th>customer_type</th>\n",
       "      <th>adr</th>\n",
       "      <th>required_car_parking_spaces</th>\n",
       "      <th>total_of_special_requests</th>\n",
       "    </tr>\n",
       "  </thead>\n",
       "  <tbody>\n",
       "    <tr>\n",
       "      <th>0</th>\n",
       "      <td>Resort Hotel</td>\n",
       "      <td>no_cancelado</td>\n",
       "      <td>342</td>\n",
       "      <td>2015</td>\n",
       "      <td>July</td>\n",
       "      <td>27</td>\n",
       "      <td>1</td>\n",
       "      <td>0</td>\n",
       "      <td>0</td>\n",
       "      <td>2</td>\n",
       "      <td>...</td>\n",
       "      <td>C</td>\n",
       "      <td>3</td>\n",
       "      <td>No Deposit</td>\n",
       "      <td>NaN</td>\n",
       "      <td>NaN</td>\n",
       "      <td>0</td>\n",
       "      <td>Transient</td>\n",
       "      <td>0.0</td>\n",
       "      <td>0</td>\n",
       "      <td>0</td>\n",
       "    </tr>\n",
       "    <tr>\n",
       "      <th>1</th>\n",
       "      <td>Resort Hotel</td>\n",
       "      <td>no_cancelado</td>\n",
       "      <td>737</td>\n",
       "      <td>2015</td>\n",
       "      <td>July</td>\n",
       "      <td>27</td>\n",
       "      <td>1</td>\n",
       "      <td>0</td>\n",
       "      <td>0</td>\n",
       "      <td>2</td>\n",
       "      <td>...</td>\n",
       "      <td>C</td>\n",
       "      <td>4</td>\n",
       "      <td>No Deposit</td>\n",
       "      <td>NaN</td>\n",
       "      <td>NaN</td>\n",
       "      <td>0</td>\n",
       "      <td>Transient</td>\n",
       "      <td>0.0</td>\n",
       "      <td>0</td>\n",
       "      <td>0</td>\n",
       "    </tr>\n",
       "    <tr>\n",
       "      <th>2</th>\n",
       "      <td>Resort Hotel</td>\n",
       "      <td>no_cancelado</td>\n",
       "      <td>7</td>\n",
       "      <td>2015</td>\n",
       "      <td>July</td>\n",
       "      <td>27</td>\n",
       "      <td>1</td>\n",
       "      <td>0</td>\n",
       "      <td>1</td>\n",
       "      <td>1</td>\n",
       "      <td>...</td>\n",
       "      <td>C</td>\n",
       "      <td>0</td>\n",
       "      <td>No Deposit</td>\n",
       "      <td>NaN</td>\n",
       "      <td>NaN</td>\n",
       "      <td>0</td>\n",
       "      <td>Transient</td>\n",
       "      <td>75.0</td>\n",
       "      <td>0</td>\n",
       "      <td>0</td>\n",
       "    </tr>\n",
       "    <tr>\n",
       "      <th>3</th>\n",
       "      <td>Resort Hotel</td>\n",
       "      <td>no_cancelado</td>\n",
       "      <td>13</td>\n",
       "      <td>2015</td>\n",
       "      <td>July</td>\n",
       "      <td>27</td>\n",
       "      <td>1</td>\n",
       "      <td>0</td>\n",
       "      <td>1</td>\n",
       "      <td>1</td>\n",
       "      <td>...</td>\n",
       "      <td>A</td>\n",
       "      <td>0</td>\n",
       "      <td>No Deposit</td>\n",
       "      <td>304.0</td>\n",
       "      <td>NaN</td>\n",
       "      <td>0</td>\n",
       "      <td>Transient</td>\n",
       "      <td>75.0</td>\n",
       "      <td>0</td>\n",
       "      <td>0</td>\n",
       "    </tr>\n",
       "    <tr>\n",
       "      <th>4</th>\n",
       "      <td>Resort Hotel</td>\n",
       "      <td>no_cancelado</td>\n",
       "      <td>14</td>\n",
       "      <td>2015</td>\n",
       "      <td>July</td>\n",
       "      <td>27</td>\n",
       "      <td>1</td>\n",
       "      <td>0</td>\n",
       "      <td>2</td>\n",
       "      <td>2</td>\n",
       "      <td>...</td>\n",
       "      <td>A</td>\n",
       "      <td>0</td>\n",
       "      <td>No Deposit</td>\n",
       "      <td>240.0</td>\n",
       "      <td>NaN</td>\n",
       "      <td>0</td>\n",
       "      <td>Transient</td>\n",
       "      <td>98.0</td>\n",
       "      <td>0</td>\n",
       "      <td>1</td>\n",
       "    </tr>\n",
       "  </tbody>\n",
       "</table>\n",
       "<p>5 rows × 30 columns</p>\n",
       "</div>"
      ],
      "text/plain": [
       "          hotel   is_canceled  lead_time  arrival_date_year  \\\n",
       "0  Resort Hotel  no_cancelado        342               2015   \n",
       "1  Resort Hotel  no_cancelado        737               2015   \n",
       "2  Resort Hotel  no_cancelado          7               2015   \n",
       "3  Resort Hotel  no_cancelado         13               2015   \n",
       "4  Resort Hotel  no_cancelado         14               2015   \n",
       "\n",
       "  arrival_date_month  arrival_date_week_number  arrival_date_day_of_month  \\\n",
       "0               July                        27                          1   \n",
       "1               July                        27                          1   \n",
       "2               July                        27                          1   \n",
       "3               July                        27                          1   \n",
       "4               July                        27                          1   \n",
       "\n",
       "   stays_in_weekend_nights  stays_in_week_nights  adults  ...  \\\n",
       "0                        0                     0       2  ...   \n",
       "1                        0                     0       2  ...   \n",
       "2                        0                     1       1  ...   \n",
       "3                        0                     1       1  ...   \n",
       "4                        0                     2       2  ...   \n",
       "\n",
       "   assigned_room_type  booking_changes deposit_type  agent company  \\\n",
       "0                   C                3   No Deposit    NaN     NaN   \n",
       "1                   C                4   No Deposit    NaN     NaN   \n",
       "2                   C                0   No Deposit    NaN     NaN   \n",
       "3                   A                0   No Deposit  304.0     NaN   \n",
       "4                   A                0   No Deposit  240.0     NaN   \n",
       "\n",
       "  days_in_waiting_list  customer_type   adr  required_car_parking_spaces  \\\n",
       "0                    0      Transient   0.0                            0   \n",
       "1                    0      Transient   0.0                            0   \n",
       "2                    0      Transient  75.0                            0   \n",
       "3                    0      Transient  75.0                            0   \n",
       "4                    0      Transient  98.0                            0   \n",
       "\n",
       "  total_of_special_requests  \n",
       "0                         0  \n",
       "1                         0  \n",
       "2                         0  \n",
       "3                         0  \n",
       "4                         1  \n",
       "\n",
       "[5 rows x 30 columns]"
      ]
     },
     "execution_count": 12,
     "metadata": {},
     "output_type": "execute_result"
    }
   ],
   "source": [
    "df = pd.read_csv('data/entrena.csv')\n",
    "print(df.shape)\n",
    "df.head()"
   ]
  },
  {
   "cell_type": "code",
   "execution_count": 13,
   "id": "2f2dc3e9",
   "metadata": {
    "scrolled": true
   },
   "outputs": [
    {
     "name": "stdout",
     "output_type": "stream",
     "text": [
      "<class 'pandas.core.frame.DataFrame'>\n",
      "RangeIndex: 91531 entries, 0 to 91530\n",
      "Data columns (total 30 columns):\n",
      " #   Column                          Non-Null Count  Dtype  \n",
      "---  ------                          --------------  -----  \n",
      " 0   hotel                           91531 non-null  object \n",
      " 1   is_canceled                     91531 non-null  object \n",
      " 2   lead_time                       91531 non-null  int64  \n",
      " 3   arrival_date_year               91531 non-null  int64  \n",
      " 4   arrival_date_month              91531 non-null  object \n",
      " 5   arrival_date_week_number        91531 non-null  int64  \n",
      " 6   arrival_date_day_of_month       91531 non-null  int64  \n",
      " 7   stays_in_weekend_nights         91531 non-null  int64  \n",
      " 8   stays_in_week_nights            91531 non-null  int64  \n",
      " 9   adults                          91531 non-null  int64  \n",
      " 10  children                        91527 non-null  float64\n",
      " 11  babies                          91531 non-null  int64  \n",
      " 12  meal                            91531 non-null  object \n",
      " 13  country                         91063 non-null  object \n",
      " 14  market_segment                  91531 non-null  object \n",
      " 15  distribution_channel            91531 non-null  object \n",
      " 16  is_repeated_guest               91531 non-null  int64  \n",
      " 17  previous_cancellations          91531 non-null  int64  \n",
      " 18  previous_bookings_not_canceled  91531 non-null  int64  \n",
      " 19  reserved_room_type              91531 non-null  object \n",
      " 20  assigned_room_type              91531 non-null  object \n",
      " 21  booking_changes                 91531 non-null  int64  \n",
      " 22  deposit_type                    91531 non-null  object \n",
      " 23  agent                           78314 non-null  float64\n",
      " 24  company                         5614 non-null   float64\n",
      " 25  days_in_waiting_list            91531 non-null  int64  \n",
      " 26  customer_type                   91531 non-null  object \n",
      " 27  adr                             91531 non-null  float64\n",
      " 28  required_car_parking_spaces     91531 non-null  int64  \n",
      " 29  total_of_special_requests       91531 non-null  int64  \n",
      "dtypes: float64(4), int64(15), object(11)\n",
      "memory usage: 20.9+ MB\n"
     ]
    }
   ],
   "source": [
    "df.info()"
   ]
  },
  {
   "cell_type": "code",
   "execution_count": 14,
   "id": "ea949cb8",
   "metadata": {},
   "outputs": [
    {
     "data": {
      "text/html": [
       "<div>\n",
       "<style scoped>\n",
       "    .dataframe tbody tr th:only-of-type {\n",
       "        vertical-align: middle;\n",
       "    }\n",
       "\n",
       "    .dataframe tbody tr th {\n",
       "        vertical-align: top;\n",
       "    }\n",
       "\n",
       "    .dataframe thead th {\n",
       "        text-align: right;\n",
       "    }\n",
       "</style>\n",
       "<table border=\"1\" class=\"dataframe\">\n",
       "  <thead>\n",
       "    <tr style=\"text-align: right;\">\n",
       "      <th></th>\n",
       "      <th>lead_time</th>\n",
       "      <th>arrival_date_year</th>\n",
       "      <th>arrival_date_week_number</th>\n",
       "      <th>arrival_date_day_of_month</th>\n",
       "      <th>stays_in_weekend_nights</th>\n",
       "      <th>stays_in_week_nights</th>\n",
       "      <th>adults</th>\n",
       "      <th>children</th>\n",
       "      <th>babies</th>\n",
       "      <th>is_repeated_guest</th>\n",
       "      <th>previous_cancellations</th>\n",
       "      <th>previous_bookings_not_canceled</th>\n",
       "      <th>booking_changes</th>\n",
       "      <th>agent</th>\n",
       "      <th>company</th>\n",
       "      <th>days_in_waiting_list</th>\n",
       "      <th>adr</th>\n",
       "      <th>required_car_parking_spaces</th>\n",
       "      <th>total_of_special_requests</th>\n",
       "    </tr>\n",
       "  </thead>\n",
       "  <tbody>\n",
       "    <tr>\n",
       "      <th>count</th>\n",
       "      <td>91531.000000</td>\n",
       "      <td>91531.000000</td>\n",
       "      <td>91531.000000</td>\n",
       "      <td>91531.000000</td>\n",
       "      <td>91531.000000</td>\n",
       "      <td>91531.000000</td>\n",
       "      <td>91531.000000</td>\n",
       "      <td>91527.000000</td>\n",
       "      <td>91531.000000</td>\n",
       "      <td>91531.000000</td>\n",
       "      <td>91531.000000</td>\n",
       "      <td>91531.000000</td>\n",
       "      <td>91531.000000</td>\n",
       "      <td>78314.000000</td>\n",
       "      <td>5614.000000</td>\n",
       "      <td>91531.000000</td>\n",
       "      <td>91531.000000</td>\n",
       "      <td>91531.000000</td>\n",
       "      <td>91531.000000</td>\n",
       "    </tr>\n",
       "    <tr>\n",
       "      <th>mean</th>\n",
       "      <td>96.286843</td>\n",
       "      <td>2015.899837</td>\n",
       "      <td>28.183621</td>\n",
       "      <td>15.814063</td>\n",
       "      <td>0.899291</td>\n",
       "      <td>2.448438</td>\n",
       "      <td>1.835761</td>\n",
       "      <td>0.090968</td>\n",
       "      <td>0.008369</td>\n",
       "      <td>0.033890</td>\n",
       "      <td>0.110236</td>\n",
       "      <td>0.134566</td>\n",
       "      <td>0.213480</td>\n",
       "      <td>83.343834</td>\n",
       "      <td>181.809939</td>\n",
       "      <td>2.962177</td>\n",
       "      <td>92.805250</td>\n",
       "      <td>0.065519</td>\n",
       "      <td>0.528346</td>\n",
       "    </tr>\n",
       "    <tr>\n",
       "      <th>std</th>\n",
       "      <td>105.454726</td>\n",
       "      <td>0.608632</td>\n",
       "      <td>15.012139</td>\n",
       "      <td>8.758629</td>\n",
       "      <td>1.004555</td>\n",
       "      <td>1.935080</td>\n",
       "      <td>0.605828</td>\n",
       "      <td>0.373917</td>\n",
       "      <td>0.101749</td>\n",
       "      <td>0.180947</td>\n",
       "      <td>0.957503</td>\n",
       "      <td>1.397675</td>\n",
       "      <td>0.635941</td>\n",
       "      <td>107.157625</td>\n",
       "      <td>128.603363</td>\n",
       "      <td>19.925026</td>\n",
       "      <td>46.724693</td>\n",
       "      <td>0.250991</td>\n",
       "      <td>0.766310</td>\n",
       "    </tr>\n",
       "    <tr>\n",
       "      <th>min</th>\n",
       "      <td>0.000000</td>\n",
       "      <td>2015.000000</td>\n",
       "      <td>1.000000</td>\n",
       "      <td>1.000000</td>\n",
       "      <td>0.000000</td>\n",
       "      <td>0.000000</td>\n",
       "      <td>0.000000</td>\n",
       "      <td>0.000000</td>\n",
       "      <td>0.000000</td>\n",
       "      <td>0.000000</td>\n",
       "      <td>0.000000</td>\n",
       "      <td>0.000000</td>\n",
       "      <td>0.000000</td>\n",
       "      <td>1.000000</td>\n",
       "      <td>6.000000</td>\n",
       "      <td>0.000000</td>\n",
       "      <td>-6.380000</td>\n",
       "      <td>0.000000</td>\n",
       "      <td>0.000000</td>\n",
       "    </tr>\n",
       "    <tr>\n",
       "      <th>25%</th>\n",
       "      <td>15.000000</td>\n",
       "      <td>2016.000000</td>\n",
       "      <td>13.000000</td>\n",
       "      <td>8.000000</td>\n",
       "      <td>0.000000</td>\n",
       "      <td>1.000000</td>\n",
       "      <td>2.000000</td>\n",
       "      <td>0.000000</td>\n",
       "      <td>0.000000</td>\n",
       "      <td>0.000000</td>\n",
       "      <td>0.000000</td>\n",
       "      <td>0.000000</td>\n",
       "      <td>0.000000</td>\n",
       "      <td>9.000000</td>\n",
       "      <td>51.000000</td>\n",
       "      <td>0.000000</td>\n",
       "      <td>65.000000</td>\n",
       "      <td>0.000000</td>\n",
       "      <td>0.000000</td>\n",
       "    </tr>\n",
       "    <tr>\n",
       "      <th>50%</th>\n",
       "      <td>58.000000</td>\n",
       "      <td>2016.000000</td>\n",
       "      <td>31.000000</td>\n",
       "      <td>16.000000</td>\n",
       "      <td>1.000000</td>\n",
       "      <td>2.000000</td>\n",
       "      <td>2.000000</td>\n",
       "      <td>0.000000</td>\n",
       "      <td>0.000000</td>\n",
       "      <td>0.000000</td>\n",
       "      <td>0.000000</td>\n",
       "      <td>0.000000</td>\n",
       "      <td>0.000000</td>\n",
       "      <td>14.000000</td>\n",
       "      <td>174.000000</td>\n",
       "      <td>0.000000</td>\n",
       "      <td>86.400000</td>\n",
       "      <td>0.000000</td>\n",
       "      <td>0.000000</td>\n",
       "    </tr>\n",
       "    <tr>\n",
       "      <th>75%</th>\n",
       "      <td>145.000000</td>\n",
       "      <td>2016.000000</td>\n",
       "      <td>41.000000</td>\n",
       "      <td>23.000000</td>\n",
       "      <td>2.000000</td>\n",
       "      <td>3.000000</td>\n",
       "      <td>2.000000</td>\n",
       "      <td>0.000000</td>\n",
       "      <td>0.000000</td>\n",
       "      <td>0.000000</td>\n",
       "      <td>0.000000</td>\n",
       "      <td>0.000000</td>\n",
       "      <td>0.000000</td>\n",
       "      <td>192.000000</td>\n",
       "      <td>242.000000</td>\n",
       "      <td>0.000000</td>\n",
       "      <td>114.000000</td>\n",
       "      <td>0.000000</td>\n",
       "      <td>1.000000</td>\n",
       "    </tr>\n",
       "    <tr>\n",
       "      <th>max</th>\n",
       "      <td>737.000000</td>\n",
       "      <td>2017.000000</td>\n",
       "      <td>53.000000</td>\n",
       "      <td>31.000000</td>\n",
       "      <td>19.000000</td>\n",
       "      <td>50.000000</td>\n",
       "      <td>55.000000</td>\n",
       "      <td>10.000000</td>\n",
       "      <td>10.000000</td>\n",
       "      <td>1.000000</td>\n",
       "      <td>26.000000</td>\n",
       "      <td>61.000000</td>\n",
       "      <td>21.000000</td>\n",
       "      <td>510.000000</td>\n",
       "      <td>523.000000</td>\n",
       "      <td>391.000000</td>\n",
       "      <td>5400.000000</td>\n",
       "      <td>8.000000</td>\n",
       "      <td>5.000000</td>\n",
       "    </tr>\n",
       "  </tbody>\n",
       "</table>\n",
       "</div>"
      ],
      "text/plain": [
       "          lead_time  arrival_date_year  arrival_date_week_number  \\\n",
       "count  91531.000000       91531.000000              91531.000000   \n",
       "mean      96.286843        2015.899837                 28.183621   \n",
       "std      105.454726           0.608632                 15.012139   \n",
       "min        0.000000        2015.000000                  1.000000   \n",
       "25%       15.000000        2016.000000                 13.000000   \n",
       "50%       58.000000        2016.000000                 31.000000   \n",
       "75%      145.000000        2016.000000                 41.000000   \n",
       "max      737.000000        2017.000000                 53.000000   \n",
       "\n",
       "       arrival_date_day_of_month  stays_in_weekend_nights  \\\n",
       "count               91531.000000             91531.000000   \n",
       "mean                   15.814063                 0.899291   \n",
       "std                     8.758629                 1.004555   \n",
       "min                     1.000000                 0.000000   \n",
       "25%                     8.000000                 0.000000   \n",
       "50%                    16.000000                 1.000000   \n",
       "75%                    23.000000                 2.000000   \n",
       "max                    31.000000                19.000000   \n",
       "\n",
       "       stays_in_week_nights        adults      children        babies  \\\n",
       "count          91531.000000  91531.000000  91527.000000  91531.000000   \n",
       "mean               2.448438      1.835761      0.090968      0.008369   \n",
       "std                1.935080      0.605828      0.373917      0.101749   \n",
       "min                0.000000      0.000000      0.000000      0.000000   \n",
       "25%                1.000000      2.000000      0.000000      0.000000   \n",
       "50%                2.000000      2.000000      0.000000      0.000000   \n",
       "75%                3.000000      2.000000      0.000000      0.000000   \n",
       "max               50.000000     55.000000     10.000000     10.000000   \n",
       "\n",
       "       is_repeated_guest  previous_cancellations  \\\n",
       "count       91531.000000            91531.000000   \n",
       "mean            0.033890                0.110236   \n",
       "std             0.180947                0.957503   \n",
       "min             0.000000                0.000000   \n",
       "25%             0.000000                0.000000   \n",
       "50%             0.000000                0.000000   \n",
       "75%             0.000000                0.000000   \n",
       "max             1.000000               26.000000   \n",
       "\n",
       "       previous_bookings_not_canceled  booking_changes         agent  \\\n",
       "count                    91531.000000     91531.000000  78314.000000   \n",
       "mean                         0.134566         0.213480     83.343834   \n",
       "std                          1.397675         0.635941    107.157625   \n",
       "min                          0.000000         0.000000      1.000000   \n",
       "25%                          0.000000         0.000000      9.000000   \n",
       "50%                          0.000000         0.000000     14.000000   \n",
       "75%                          0.000000         0.000000    192.000000   \n",
       "max                         61.000000        21.000000    510.000000   \n",
       "\n",
       "           company  days_in_waiting_list           adr  \\\n",
       "count  5614.000000          91531.000000  91531.000000   \n",
       "mean    181.809939              2.962177     92.805250   \n",
       "std     128.603363             19.925026     46.724693   \n",
       "min       6.000000              0.000000     -6.380000   \n",
       "25%      51.000000              0.000000     65.000000   \n",
       "50%     174.000000              0.000000     86.400000   \n",
       "75%     242.000000              0.000000    114.000000   \n",
       "max     523.000000            391.000000   5400.000000   \n",
       "\n",
       "       required_car_parking_spaces  total_of_special_requests  \n",
       "count                 91531.000000               91531.000000  \n",
       "mean                      0.065519                   0.528346  \n",
       "std                       0.250991                   0.766310  \n",
       "min                       0.000000                   0.000000  \n",
       "25%                       0.000000                   0.000000  \n",
       "50%                       0.000000                   0.000000  \n",
       "75%                       0.000000                   1.000000  \n",
       "max                       8.000000                   5.000000  "
      ]
     },
     "execution_count": 14,
     "metadata": {},
     "output_type": "execute_result"
    }
   ],
   "source": [
    "df.describe()"
   ]
  },
  {
   "cell_type": "markdown",
   "id": "6125efb7",
   "metadata": {},
   "source": [
    "## Ingeniería de variables "
   ]
  },
  {
   "cell_type": "markdown",
   "id": "df4d1a0c",
   "metadata": {},
   "source": [
    "Transformo variable **is_canceled** en una variable numérica. "
   ]
  },
  {
   "cell_type": "code",
   "execution_count": 18,
   "id": "68137c04",
   "metadata": {},
   "outputs": [],
   "source": [
    "l = []\n",
    "for i in df.is_canceled:\n",
    "    if i == 'cancelado':\n",
    "        l.append(1)\n",
    "    else:\n",
    "        l.append(0)\n"
   ]
  },
  {
   "cell_type": "code",
   "execution_count": 26,
   "id": "cbdcf8d1",
   "metadata": {},
   "outputs": [
    {
     "data": {
      "text/plain": [
       "0.35791152724213654"
      ]
     },
     "execution_count": 26,
     "metadata": {},
     "output_type": "execute_result"
    }
   ],
   "source": [
    "sum(l)\n",
    "len(l)\n",
    "\n",
    "sum(l)/len(l) #proporcion cancelados"
   ]
  },
  {
   "cell_type": "markdown",
   "id": "e34112ad",
   "metadata": {},
   "source": [
    "%35 de las resvaciones son canceladas"
   ]
  },
  {
   "cell_type": "code",
   "execution_count": 23,
   "id": "abac3d77",
   "metadata": {},
   "outputs": [],
   "source": [
    "df['Cancel_dummy'] = l #agrego nueva columna "
   ]
  },
  {
   "cell_type": "code",
   "execution_count": 46,
   "id": "e5902d0f",
   "metadata": {},
   "outputs": [],
   "source": [
    "#df.head(10)"
   ]
  },
  {
   "cell_type": "markdown",
   "id": "a1d527c6",
   "metadata": {},
   "source": [
    "La variable **deposit** me parece muy importante, debido a que si las personas hacen o no un deposito puede afectar muchísimo a si cancelarán o no.  \n",
    "\n",
    "Así que se transformará esta variable en variables dummy."
   ]
  },
  {
   "cell_type": "code",
   "execution_count": 28,
   "id": "75e8717d",
   "metadata": {},
   "outputs": [
    {
     "data": {
      "text/plain": [
       "array(['No Deposit', 'Refundable', 'Non Refund'], dtype=object)"
      ]
     },
     "execution_count": 28,
     "metadata": {},
     "output_type": "execute_result"
    }
   ],
   "source": [
    "df.deposit_type.unique()"
   ]
  },
  {
   "cell_type": "code",
   "execution_count": 44,
   "id": "c0d3a44d",
   "metadata": {},
   "outputs": [],
   "source": [
    "df[['No Deposit', 'Refundable', 'Non Refund']] = pd.get_dummies(df.deposit_type) \n",
    "#agrego variables dummy"
   ]
  },
  {
   "cell_type": "markdown",
   "id": "d4d351a1",
   "metadata": {},
   "source": [
    "Puede que el tipo de hotel también afecte."
   ]
  },
  {
   "cell_type": "code",
   "execution_count": 29,
   "id": "b25a7fb4",
   "metadata": {},
   "outputs": [
    {
     "data": {
      "text/plain": [
       "array(['Resort Hotel', 'City Hotel'], dtype=object)"
      ]
     },
     "execution_count": 29,
     "metadata": {},
     "output_type": "execute_result"
    }
   ],
   "source": [
    "df.hotel.unique()"
   ]
  },
  {
   "cell_type": "code",
   "execution_count": 48,
   "id": "22092f66",
   "metadata": {},
   "outputs": [],
   "source": [
    "df[['Resort Hotel', 'City Hotel']] = pd.get_dummies(df.hotel)"
   ]
  },
  {
   "cell_type": "code",
   "execution_count": 50,
   "id": "d6198304",
   "metadata": {},
   "outputs": [
    {
     "data": {
      "text/plain": [
       "array(['Direct', 'Corporate', 'Online TA', 'Offline TA/TO',\n",
       "       'Complementary', 'Groups', 'Undefined', 'Aviation'], dtype=object)"
      ]
     },
     "execution_count": 50,
     "metadata": {},
     "output_type": "execute_result"
    }
   ],
   "source": [
    "df.market_segment.unique() "
   ]
  },
  {
   "cell_type": "code",
   "execution_count": 51,
   "id": "a4776110",
   "metadata": {},
   "outputs": [
    {
     "data": {
      "text/plain": [
       "array(['Transient', 'Contract', 'Transient-Party', 'Group'], dtype=object)"
      ]
     },
     "execution_count": 51,
     "metadata": {},
     "output_type": "execute_result"
    }
   ],
   "source": [
    "df.customer_type.unique() "
   ]
  },
  {
   "cell_type": "code",
   "execution_count": 37,
   "id": "29c42a52",
   "metadata": {},
   "outputs": [],
   "source": [
    "df2 =  pd.get_dummies(df)"
   ]
  },
  {
   "cell_type": "markdown",
   "id": "55ac8c86",
   "metadata": {},
   "source": [
    "## Correlaciones"
   ]
  },
  {
   "cell_type": "code",
   "execution_count": 49,
   "id": "c7f2553a",
   "metadata": {},
   "outputs": [
    {
     "data": {
      "image/png": "[encoded data removed]",
      "text/plain": [
       "<Figure size 432x288 with 2 Axes>"
      ]
     },
     "metadata": {
      "needs_background": "light"
     },
     "output_type": "display_data"
    }
   ],
   "source": [
    "corr = df.corr()\n",
    "\n",
    "sns.heatmap(corr, vmax=.3, center=0, cmap='jet', square=True, linewidths=.5, cbar_kws={\"shrink\": .5})\n",
    "plt.show()"
   ]
  },
  {
   "cell_type": "code",
   "execution_count": null,
   "id": "1ee78f7d",
   "metadata": {},
   "outputs": [],
   "source": []
  }
 ],
 "metadata": {
  "kernelspec": {
   "display_name": "Python 3",
   "language": "python",
   "name": "python3"
  },
  "language_info": {
   "codemirror_mode": {
    "name": "ipython",
    "version": 3
   },
   "file_extension": ".py",
   "mimetype": "text/x-python",
   "name": "python",
   "nbconvert_exporter": "python",
   "pygments_lexer": "ipython3",
   "version": "3.8.8"
  }
 },
 "nbformat": 4,
 "nbformat_minor": 5
}
